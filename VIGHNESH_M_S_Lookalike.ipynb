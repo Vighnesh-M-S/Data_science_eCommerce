{
  "nbformat": 4,
  "nbformat_minor": 0,
  "metadata": {
    "colab": {
      "provenance": []
    },
    "kernelspec": {
      "name": "python3",
      "display_name": "Python 3"
    },
    "language_info": {
      "name": "python"
    }
  },
  "cells": [
    {
      "cell_type": "markdown",
      "source": [
        "**Task 2: Lookalike Model**\n",
        "\n",
        "Build a Lookalike Model that takes a user's information as input and recommends 3 similar\n",
        "customers based on their profile and transaction history.\n",
        "\n",
        "The model should:\n",
        "\n",
        "  ●\n",
        "Use both customer and product information.\n",
        "\n",
        "  ●\n",
        "Assign a similarity score to each recommended customer.\n",
        "\n",
        "Deliverables:\n",
        "\n",
        "  ●\n",
        "Give the top 3 lookalikes with there similarity scores for the first 20 customers\n",
        "(CustomerID: C0001 - C0020) in Customers.csv. Form an “Lookalike.csv” which has\n",
        "just one map: Map<cust\n",
        "_\n",
        "id, List<cust\n",
        "_\n",
        "id, score>>\n",
        "\n",
        "●\n",
        "A Jupyter Notebook/Python script explaining your model development.\n",
        "\n",
        "Evaluation Criteria:\n",
        "\n",
        "●\n",
        "Model accuracy and logic.\n",
        "\n",
        "●\n",
        "Quality of recommendations and similarity scores."
      ],
      "metadata": {
        "id": "jKJIsMOIi8fP"
      }
    },
    {
      "cell_type": "code",
      "execution_count": 1,
      "metadata": {
        "id": "oKfD_JnafoLZ"
      },
      "outputs": [],
      "source": [
        "import pandas as pd\n",
        "from sklearn.metrics.pairwise import cosine_similarity\n",
        "from sklearn.preprocessing import MinMaxScaler"
      ]
    },
    {
      "cell_type": "code",
      "source": [
        "# Load datasets\n",
        "customers = pd.read_csv(\"Customers.csv\")\n",
        "products = pd.read_csv(\"Products.csv\")\n",
        "transactions = pd.read_csv(\"Transactions.csv\")"
      ],
      "metadata": {
        "id": "B7BFAtHxfzBP"
      },
      "execution_count": 3,
      "outputs": []
    },
    {
      "cell_type": "code",
      "source": [
        "# Merge datasets for feature engineering\n",
        "merged_data = transactions.merge(products, on='ProductID', how='left')\n",
        "merged_data = merged_data.merge(customers, on='CustomerID', how='left')"
      ],
      "metadata": {
        "id": "jRTeB_ijf53M"
      },
      "execution_count": 4,
      "outputs": []
    },
    {
      "cell_type": "code",
      "source": [
        "# Feature Engineering\n",
        "# 1. Lifetime value (total spending)\n",
        "lifetime_value = merged_data.groupby('CustomerID')['TotalValue'].sum().reset_index()\n",
        "lifetime_value.columns = ['CustomerID', 'LifetimeValue']"
      ],
      "metadata": {
        "id": "RVxcVME8gA35"
      },
      "execution_count": 5,
      "outputs": []
    },
    {
      "cell_type": "code",
      "source": [
        "# 2. Product preferences (category-wise spending)\n",
        "category_spending = merged_data.groupby(['CustomerID', 'Category'])['TotalValue'].sum().unstack(fill_value=0).reset_index()\n"
      ],
      "metadata": {
        "id": "sx3ogtHMgC2p"
      },
      "execution_count": 6,
      "outputs": []
    },
    {
      "cell_type": "code",
      "source": [
        "# 3. Frequency of purchases (number of transactions)\n",
        "transaction_frequency = merged_data.groupby('CustomerID')['TransactionID'].count().reset_index()\n",
        "transaction_frequency.columns = ['CustomerID', 'TransactionFrequency']"
      ],
      "metadata": {
        "id": "bh65kOgfgGPY"
      },
      "execution_count": 7,
      "outputs": []
    },
    {
      "cell_type": "code",
      "source": [
        "# Combine features into a single DataFrame\n",
        "features = customers.merge(lifetime_value, on='CustomerID', how='left')\n",
        "features = features.merge(transaction_frequency, on='CustomerID', how='left')\n",
        "features = features.merge(category_spending, on='CustomerID', how='left')"
      ],
      "metadata": {
        "id": "dtTX8XuFgK2O"
      },
      "execution_count": 8,
      "outputs": []
    },
    {
      "cell_type": "code",
      "source": [
        "# Fill missing values with 0\n",
        "features.fillna(0, inplace=True)"
      ],
      "metadata": {
        "id": "IfUNLZlVgL0L"
      },
      "execution_count": 9,
      "outputs": []
    },
    {
      "cell_type": "code",
      "source": [
        "# Normalize features for similarity calculation\n",
        "scaler = MinMaxScaler()\n",
        "feature_columns = features.select_dtypes(include=['number']).columns[2:]\n",
        "features_normalized = pd.DataFrame(scaler.fit_transform(features[feature_columns]), columns=feature_columns, index=features.index)\n",
        "features_normalized['CustomerID'] = features['CustomerID']"
      ],
      "metadata": {
        "id": "6VxAiTTCgOTn"
      },
      "execution_count": 10,
      "outputs": []
    },
    {
      "cell_type": "code",
      "source": [
        "# Calculate similarity using cosine similarity\n",
        "similarity_matrix = cosine_similarity(features_normalized.drop('CustomerID', axis=1))\n",
        "similarity_df = pd.DataFrame(similarity_matrix, index=features['CustomerID'], columns=features['CustomerID'])"
      ],
      "metadata": {
        "id": "KDdJOCgcgSsr"
      },
      "execution_count": 11,
      "outputs": []
    },
    {
      "cell_type": "code",
      "source": [
        "# Generate Lookalike Recommendations\n",
        "lookalike_results = {}\n",
        "for customer_id in features['CustomerID'][:20]:  # For the first 20 customers (C0001 to C0020)\n",
        "    similar_customers = similarity_df[customer_id].sort_values(ascending=False).iloc[1:4]  # Top 3 similar customers\n",
        "    lookalike_results[customer_id] = list(zip(similar_customers.index, similar_customers.values))"
      ],
      "metadata": {
        "id": "P5ZM34QmgXvI"
      },
      "execution_count": 12,
      "outputs": []
    },
    {
      "cell_type": "code",
      "source": [
        "# Create Lookalike.csv\n",
        "lookalike_df = pd.DataFrame({\n",
        "    'CustomerID': lookalike_results.keys(),\n",
        "    'Lookalikes': [str(value) for value in lookalike_results.values()]\n",
        "})\n",
        "lookalike_df.to_csv(\"Lookalike.csv\", index=False)\n",
        "\n",
        "print(\"Lookalike recommendations saved to Lookalike.csv\")\n"
      ],
      "metadata": {
        "colab": {
          "base_uri": "https://localhost:8080/"
        },
        "id": "aRFY7FR6gYp-",
        "outputId": "b330a4f8-1c40-41b5-a04a-c57a4aa5fb9c"
      },
      "execution_count": 13,
      "outputs": [
        {
          "output_type": "stream",
          "name": "stdout",
          "text": [
            "Lookalike recommendations saved to Lookalike.csv\n"
          ]
        }
      ]
    }
  ]
}